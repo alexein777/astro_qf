{
 "cells": [
  {
   "cell_type": "markdown",
   "source": [
    "# Primena kvantne Furijeove transformacije u programskom jeziku Python\n",
    "\n",
    "\n",
    "### Uvod\n",
    "\n",
    "**Kvantna Furijeova transformacija** (KFT) je linearna transformacija kvantnih bitova i predstavlja kvantnu analogiju \n",
    "diskretne Furijeove transformacije. Diskretna Furijeova transformacija (DFT) od $2^n$ amplituda implementirana je kao \n",
    "kvantno kolo od samo $O(n^2)$ Hadamardovih kola i kola kontrolisanog faznog pomeraja, pri čemu je $n$ broj kvantnih \n",
    "bitova. Ovo je znatno efikasnije u odnosu na standardnu diskretnu Furijeovu transformaciju koja zahteva $O(n2^n)$ kola.\n",
    "Ipak, KFT deluje nad kvantnim stanjem, dok standardna DFT deluje nad vektorom, tako da DFT ne može u svakom problemu \n",
    "iskoristiti ovo eksponencijalno ubrzanje. Najbolji kvantni algoritmi Furijeove transformacije zahtevaju samo \n",
    "$O(n\\log n)$ kola za efikasno rešenje. \n",
    "\n",
    "#### Primene\n",
    "\n",
    "* Šorov algoritam (faktorizacija velikih brojeva)\n",
    "* Određivanje sopstvenih vrednosti unitarne matrice\n",
    "* Algoritmi za rešavanje problema skrivenih podgrupa\n"
   ],
   "metadata": {
    "collapsed": false
   }
  },
  {
   "cell_type": "code",
   "execution_count": null,
   "outputs": [],
   "source": [
    "from astro_qf import quantum as qt\n",
    "import matplotlib.pyplot as plt\n",
    "import numpy as np\n",
    "from IPython.display import Image, display"
   ],
   "metadata": {
    "collapsed": false,
    "pycharm": {
     "name": "#%%\n"
    }
   }
  },
  {
   "cell_type": "markdown",
   "source": [
    "Za potrebe projekta implementiran je modul *quantum* koji sadrži klase za rad sa kompleksnim brojevima, kjubitima,\n",
    "kjubitima na Blohovoj sferi, funkcije za generisanje tačaka u vidu geometrijskih oblika, funkciju za\n",
    "generisanje šuma i funkciju kvantne Furijeove transformacije. Sve funkcije su ručno implementirane, **bez\n",
    "upotrebe dodatnih biblioteka** (poput numpy, QuTiP, ...)"
   ],
   "metadata": {
    "collapsed": false
   }
  },
  {
   "cell_type": "markdown",
   "source": [
    "### Klasa  *Complex*\n",
    "\n",
    "Sadrži sve osnovne funkcije za kreiranje kompleksnih brojeva i operacije nad njima."
   ],
   "metadata": {
    "collapsed": false
   }
  },
  {
   "cell_type": "markdown",
   "source": [
    "##### Kreiranje:"
   ],
   "metadata": {
    "collapsed": false
   }
  },
  {
   "cell_type": "code",
   "execution_count": null,
   "outputs": [],
   "source": [
    "z1 = qt.Complex(-3, 4)\n",
    "z2 = qt.Complex(-0.5, 1.5)\n",
    "z3 = qt.Complex(0, -1)\n",
    "z4 = qt.Complex(1, 0)\n",
    "\n",
    "print(f'z1 = {z1}')\n",
    "print(f'z2 = {z2}')\n",
    "print(f'z3 = {z3}')\n",
    "print(f'z4 = {z4}')"
   ],
   "metadata": {
    "collapsed": false,
    "pycharm": {
     "name": "#%%\n"
    }
   }
  },
  {
   "cell_type": "markdown",
   "source": [
    "##### Opšte operacije:"
   ],
   "metadata": {
    "collapsed": false
   }
  },
  {
   "cell_type": "code",
   "execution_count": null,
   "outputs": [],
   "source": [
    "print(f'|z1| = {z1.modulus()}')\n",
    "print(f'-z1 = {-z1}')\n",
    "print(f'z1 konjugovano: {z1.conjugate()}')\n",
    "print(f'arg(z1) = {z1.arg()}')\n",
    "print(f'abs(z1) = {abs(z1)}')\n",
    "print(f'Trigonometrijski oblik z1: {z1.trigform()}')\n",
    "print(f'Indeksiranje: z1[0]={z1[0]}, z1[-1]={z1[-1]}')\n",
    "print(f'Poredjenje: z1 == z2 -> {z1 == z2}, 1 == z4 -> {1 == z4}, z3 != z4 -> {z3 != z4}')"
   ],
   "metadata": {
    "collapsed": false,
    "pycharm": {
     "name": "#%%\n"
    }
   }
  },
  {
   "cell_type": "markdown",
   "source": [
    "##### Aritmetičke operacije:"
   ],
   "metadata": {
    "collapsed": false
   }
  },
  {
   "cell_type": "code",
   "execution_count": null,
   "outputs": [],
   "source": [
    "print(f'z1 + z2 = {z1 + z2}')\n",
    "print(f'z1 - z2 = {z1 - z2}')\n",
    "print(f'z1 * z2 = {z1 * z2}')\n",
    "print(f'z1 / z2 = {z1 / z2}\\n')\n",
    "\n",
    "z3 += 4.15\n",
    "z4 -= qt.Complex(2, 2)\n",
    "print(f'(z3 += 4.15): z3 = {z3}')\n",
    "print(f'(z4 -= (2 + 2i): z4 = {z4}')\n",
    "\n",
    "z3 *= qt.Complex(0, 1)\n",
    "z4 /= 2\n",
    "print(f'(z3 *= i): z3 = {z3}')\n",
    "print(f'(z4 /= 2): z4 = {z4}\\n')\n",
    "\n",
    "print(f'z1^2 = {z1 ** 2}')\n",
    "print(f'z1^0.5 = {z1 ** 0.5}\\n')\n",
    "\n",
    "zs = [qt.Complex(1, 1), qt.Complex(2, 2), qt.Complex(), qt.Complex(3, 3)]\n",
    "print(f'Suma [(1 + i), (2 + 2i), 0, (3 + 3i)]: {qt.Complex.csum(zs)}')"
   ],
   "metadata": {
    "collapsed": false,
    "pycharm": {
     "name": "#%%\n"
    }
   }
  },
  {
   "cell_type": "markdown",
   "source": [
    "##### Ostale funkcije:"
   ],
   "metadata": {
    "collapsed": false
   }
  },
  {
   "cell_type": "code",
   "execution_count": null,
   "outputs": [],
   "source": [
    "print(f'sin(z1) = {z1.sin()}')\n",
    "print(f'cos(z1) = {z1.cos()}')\n",
    "print(f'Nasumican kompleksan broj izmedju 2, 4: {qt.Complex.random(2, 4)}')\n",
    "print('Lista nasumicnih kompleksnih brojeva:')\n",
    "print(qt.Complex.randlist(size=10, start=-5, stop=1))"
   ],
   "metadata": {
    "collapsed": false,
    "pycharm": {
     "name": "#%%\n"
    }
   }
  },
  {
   "cell_type": "markdown",
   "source": [
    "Funkcije za generisanje tačaka koje predstavljaju poznate geometrijske oblike kao i funkcije za iscrtavanje\n",
    "biće prikazane kasnije."
   ],
   "metadata": {
    "collapsed": false
   }
  },
  {
   "cell_type": "markdown",
   "source": [
    "### Klasa *ComplexTrig*\n",
    "\n",
    "Ova klasa nasleđuje klasu *quantum.Complex* i dozvoljava kreiranje kompleksnog broja pomoću trigonometrijskog oblika,\n",
    "odnosno pomoću dužine vektora $r$ i ugla $\\phi$ koji on zaklapa sa pozitivnim delom x-ose."
   ],
   "metadata": {
    "collapsed": false
   }
  },
  {
   "cell_type": "code",
   "execution_count": null,
   "outputs": [],
   "source": [
    "z1 = qt.ComplexTrig(np.pi / 4, 1)\n",
    "z2 = qt.ComplexTrig(-np.pi / 2, 3)\n",
    "\n",
    "print(f'z1 = {z1.trigform()}')\n",
    "print(f'z2 = {z2.trigform()}')"
   ],
   "metadata": {
    "collapsed": false,
    "pycharm": {
     "name": "#%%\n"
    }
   }
  },
  {
   "cell_type": "markdown",
   "source": [
    "### Klasa *Qubit*\n",
    "\n",
    "Sadrži osnovne funkcionalnosti za rad sa kvantnim bitovima.\n",
    "\n",
    "Za razliku od običnog bita, **kjubit** može biti u stanju $0$, $1$ ili biti *kvantna superpozicija* ova dva stanja,\n",
    "odnosno zbir prethodna dva stanja. To znači da se kjubit ne nalazi ni u jednom ni u drugom stanju, već da se javlja\n",
    "u jednom od ova dva stanja sa određenom verovatnoćom, nakon merenja.\n",
    "\n",
    "U opštem slučaju, za $n$ kjubita\n",
    "postoji $2^n$ stanja. Za stanje kjubita koristi se Dirakova *bra-ket* notacija:\n",
    "\n",
    "$|\\psi$> $ = \\alpha|0$> $ + \\beta|1$> $, |\\alpha|^2 + |\\beta|^2 = 1$\n",
    "\n",
    "Kvadrati koeficijenata (kvadrati modula u slučaju kompleksnih brojeva) koji stoje uz vrednosti bitova predstavljaju \n",
    "raspodelu verovatnoća da se kjubit nađe u datom stanju. Dakle, zbir ovih vrednosti daje vrednost 1.\n",
    "\n",
    "Matematički, kjubit je normirani kompleksni vektor iz Hilbertovog prostora $C^N$ i može se napisati matrično:\n",
    "\n",
    "$|\\psi$> $ = \\alpha \\begin{bmatrix} 1 \\\\ 0 \\end{bmatrix} + \\beta\n",
    "\\begin{bmatrix}\n",
    "0 \\\\\n",
    "1\n",
    "\\end{bmatrix} \n",
    "=\n",
    "\\begin{bmatrix}\n",
    "\\alpha \\\\\n",
    "\\beta\n",
    "\\end{bmatrix}$\n",
    "\n",
    "\n",
    "Kjubit se nakon *merenja* može naći samo u jednom stanju čime stanje superpozicije biva narušeno \n",
    "(Šredingerov eksperiment). Matematički, merenje kjubita je predstavljeno dejstvom matrice na vektorsku \n",
    "reprezentaciju stanja kjubita. Na primer, izraz za merenje kjubita u stanju 0 je oblika:\n",
    "\n",
    "$M_0|\\psi $> $ =\n",
    "\\begin{bmatrix}\n",
    "1 && 0 \\\\\n",
    "0 && 0\n",
    "\\end{bmatrix}\n",
    "(\\alpha\n",
    "\\begin{bmatrix}\n",
    "1 \\\\\n",
    "0\n",
    "\\end{bmatrix}\n",
    "+ \\beta\n",
    "\\begin{bmatrix}\n",
    "0 \\\\\n",
    "1\n",
    "\\end{bmatrix}\n",
    ") = \n",
    "\\begin{bmatrix}\n",
    "\\alpha \\\\\n",
    "0\n",
    "\\end{bmatrix}$\n",
    "\n",
    "i analogno za stanje $1$:\n",
    "\n",
    "$M_1|\\psi $> $ = \n",
    "\\begin{bmatrix}\n",
    "0 && 0 \\\\\n",
    "0 && 1\n",
    "\\end{bmatrix}\n",
    "|\\psi $> $ =\n",
    "\\begin{bmatrix}\n",
    "0 \\\\\n",
    "\\beta\n",
    "\\end{bmatrix}$\n",
    "\n",
    "Zanimljivo je napomenuti da je Google nedavno, koristeći 53 kjubita u svom kvantnom računaru, rešio kompleksan problem\n",
    "za 200 sekundi za koji je najjačem poznatom superračunaru potrebno približno 10.000 godina!\n",
    "\n",
    "#### Primeri"
   ],
   "metadata": {
    "collapsed": false
   }
  },
  {
   "cell_type": "code",
   "execution_count": null,
   "outputs": [],
   "source": [
    "q1 = qt.Qubit([qt.Complex(1 / np.sqrt(2), 0), qt.Complex(1 / np.sqrt(2), 0)])\n",
    "q2 = qt.Qubit([\n",
    "    qt.Complex(0.5, 0),\n",
    "    qt.Complex(0, -0.5),\n",
    "    qt.Complex(-0.5, 0),\n",
    "    qt.Complex(0, 0.5)\n",
    "])\n",
    "\n",
    "print(f'q1 = {q1}')\n",
    "print(f'q2 = {q2}')"
   ],
   "metadata": {
    "collapsed": false,
    "pycharm": {
     "name": "#%%\n"
    }
   }
  },
  {
   "cell_type": "markdown",
   "source": [
    "Klasa *Qubit* dinamički određuje stanje kjubita na osnovu dužine prosleđene liste koeficijenata,\n",
    "a zatim je automatski normalizuje."
   ],
   "metadata": {
    "collapsed": false
   }
  },
  {
   "cell_type": "code",
   "execution_count": null,
   "outputs": [],
   "source": [
    "q3 = qt.Qubit([\n",
    "    qt.Complex(150, -342),\n",
    "    qt.Complex(-105.232, 0.15),\n",
    "    qt.Complex(15, 130.013)\n",
    "])\n",
    "\n",
    "print(f'q3 = {q3}')\n",
    "print(f'Suma verovatnoca: {q3.sum()}\\n')\n",
    "print(f'q3[-1] = {q3[-1]} (koeficijent uz |11> je 0)')"
   ],
   "metadata": {
    "collapsed": false,
    "pycharm": {
     "name": "#%%\n"
    }
   }
  },
  {
   "cell_type": "markdown",
   "source": [
    "##### Simulacija merenja kjubita\n",
    "\n",
    "Ponovićemo merenje istog kjubita (veštački) 10000 puta kako bismo utvrdili da kjubit $''$upada$''$ u stanje\n",
    "srazmerno sa verovatnoćom uz odgovarajuće stanje. Za kjubit\n",
    "\n",
    "$|\\psi$> $ = \\frac{1}{2}|00$> $- \\frac{i}{2}|01$> $- \\frac{1}{2}|10$> $+ \\frac{i}{2}|11$>\n",
    "\n",
    "očekujemo da uzme približno jednake vrednosti 00, 01, 10 i 11, jer su sve verovatnoće jednake $\\frac{1}{4}$."
   ],
   "metadata": {
    "collapsed": false
   }
  },
  {
   "cell_type": "code",
   "execution_count": null,
   "outputs": [],
   "source": [
    "s = q2.sample(10000)\n",
    "qt.Qubit.print_sample(s)"
   ],
   "metadata": {
    "collapsed": false,
    "pycharm": {
     "name": "#%%\n"
    }
   }
  },
  {
   "cell_type": "markdown",
   "source": [
    "Vidimo da se kjubit našao u svakom stanju približno jednak broj puta.\n",
    "Prethodno merenje je $''$veštačko$''$ jer se kjubit nakon merenja može naći samo u izmerenom stanju, u kome\n",
    "ostaje nepromenjen. Izmerićemo kjubit nakon prvog merenja i utvrditi prethodno tvrđenje."
   ],
   "metadata": {
    "collapsed": false
   }
  },
  {
   "cell_type": "code",
   "execution_count": null,
   "outputs": [],
   "source": [
    "print('Prvo merenje:')\n",
    "q2.measure()\n",
    "print(q2)\n",
    "\n",
    "print('\\nNakon prvog merenja, merimo kjubit jos 3 puta:')\n",
    "q2.measure()\n",
    "print(q2)\n",
    "\n",
    "q2.measure()\n",
    "print(q2)\n",
    "\n",
    "q2.measure()\n",
    "print(q2)"
   ],
   "metadata": {
    "collapsed": false,
    "pycharm": {
     "name": "#%%\n"
    }
   }
  },
  {
   "cell_type": "markdown",
   "source": [
    "Kjubit sa nasumičnim koeficijentima i lista nasumičnih kjubita:"
   ],
   "metadata": {
    "collapsed": false
   }
  },
  {
   "cell_type": "code",
   "execution_count": null,
   "outputs": [],
   "source": [
    "q = qt.Qubit.random(4)\n",
    "print(q)\n",
    "print()\n",
    "\n",
    "qs = qt.Qubit.randlist(7, 2)\n",
    "print(qs)"
   ],
   "metadata": {
    "collapsed": false,
    "pycharm": {
     "name": "#%%\n"
    }
   }
  },
  {
   "cell_type": "markdown",
   "source": [
    "### Klasa QubitBloch\n",
    "\n",
    "Kjubit može biti predstavljen na Blohovoj sferi:"
   ],
   "metadata": {
    "collapsed": false
   }
  },
  {
   "cell_type": "code",
   "execution_count": null,
   "outputs": [],
   "source": [
    "display(Image(filename='Bloch-sphere-representation-of-a-qubit.jpg'))\n",
    "# img = Image.open('Bloch_sphere.png')\n",
    "# plt.imshow(img)"
   ],
   "metadata": {
    "collapsed": false,
    "pycharm": {
     "name": "#%%\n"
    }
   }
  },
  {
   "cell_type": "code",
   "execution_count": null,
   "outputs": [],
   "source": [
    "qt.QubitBloch.init_sphere(points=400)"
   ],
   "metadata": {
    "collapsed": false,
    "pycharm": {
     "name": "#%%\n"
    }
   }
  },
  {
   "cell_type": "markdown",
   "source": [
    "Stanje kjubita na Blohovoj sferi je određeno izrazom:\n",
    "\n",
    "$|\\psi$> $ = cos\\frac{\\theta}{2}|0$> $ + e^{i\\phi}sin\\frac{\\theta}{2}|1$>\n",
    "\n",
    "Kreiraćemo najpre kjubit sa uglovima $\\theta=-\\frac{\\pi}{2}, \\phi=2\\pi$."
   ],
   "metadata": {
    "collapsed": false
   }
  },
  {
   "cell_type": "code",
   "execution_count": null,
   "outputs": [],
   "source": [
    "q = qt.QubitBloch(theta=-np.pi/2, phi=2*np.pi)\n",
    "print(f'q = {q}')\n",
    "print(f'q.theta = {q.theta}, q.phi = {q.phi}')"
   ],
   "metadata": {
    "collapsed": false,
    "pycharm": {
     "name": "#%%\n"
    }
   }
  },
  {
   "cell_type": "markdown",
   "source": [
    "Generisaćemo nasumično 20 kjubita i prikazati ih na Blohovoj sferi."
   ],
   "metadata": {
    "collapsed": false
   }
  },
  {
   "cell_type": "code",
   "execution_count": null,
   "outputs": [],
   "source": [
    "fig = plt.figure()\n",
    "fig_size = plt.gcf()\n",
    "fig_size.set_size_inches(12, 6)\n",
    "\n",
    "ax = fig.add_subplot(121, projection='3d')\n",
    "\n",
    "rand_qubits = qt.QubitBloch.randlist(20)\n",
    "for rq in rand_qubits:\n",
    "    rq.show(ax, s=15, sphere_s=2, sphere_alpha=0.7)"
   ],
   "metadata": {
    "collapsed": false,
    "pycharm": {
     "name": "#%%\n"
    }
   }
  },
  {
   "cell_type": "markdown",
   "source": [
    "### Kvantna Furijeova transformacija\n",
    "\n",
    "Kvantna Furijeova transformacija se primenjuje nad skupom realnih ili kompleksnih brojeva veličine $N$.\n",
    "Neka je dat vektor $c = (c_0, c_1, ... , c_{N-1})$. Tada je Kvantna Furijeova transformacija koeficijenta \n",
    "na poziciji $k$ data formulom:\n",
    "\n",
    "$c_k = \\frac{1}{N}\\sum_{j=0}^{N-1} e^{2\\pi i \\frac{jk}{N}}$ $, k = 0, 1, ... , N-1$\n",
    "\n",
    "KFT može biti prikazana i kao unitarna matrica koja deluje na kvantno stanje:\n",
    "\n",
    "$F_N = \\frac{1}{\\sqrt N}$\n",
    "\\begin{bmatrix}\n",
    "1 && 1 && 1 && 1 && ... && 1 \\\\\n",
    "1 && w && w^2 && w^3 && ... && w^{N-1} \\\\\n",
    "1 && w^2 && w^4 && w^6 && ... && w^{2(N-1)} \\\\\n",
    "1 && w^3 && w^6 && w^9 && ... && w^{3(N-1)} \\\\\n",
    "&& ... \\\\\n",
    "1 && w^{N-1} && w^{2(N-1)} && w^{3(N-1)} && ... && w^{(N-1)(N-1)}\n",
    "\\end{bmatrix}\n",
    "\n",
    "gde je $w^N = 1$  $N$-ti primitivni koren jedinice, ili kao kvantno kolo:"
   ],
   "metadata": {
    "collapsed": false
   }
  },
  {
   "cell_type": "markdown",
   "source": [
    "##### Implementacija KFT pomoću Hadamardovih gejtova i gejtova kontrolisanog faznog pomeraja za $n$ kjubita:"
   ],
   "metadata": {
    "collapsed": false
   }
  },
  {
   "cell_type": "code",
   "execution_count": null,
   "outputs": [],
   "source": [
    "display(Image(filename='Q_fourier_nqubits.png'))"
   ],
   "metadata": {
    "collapsed": false,
    "pycharm": {
     "name": "#%%\n"
    }
   }
  },
  {
   "cell_type": "markdown",
   "source": [
    "#### Primeri primene\n",
    "\n",
    "Najpre ćemo transformisati proizvoljan skup kompleksnih brojeva i prikazati rezultat.\n",
    "Na drugoj slici ćemo transformisati 4 kjubita u stanju superpozicije ($2^4$ koeficijenata), pri čemu će\n",
    "sve verovatnoće biti jednake, tj. $\\frac{1}{16}$."
   ],
   "metadata": {
    "collapsed": false
   }
  },
  {
   "cell_type": "code",
   "execution_count": null,
   "outputs": [],
   "source": [
    "complex_li = qt.Complex.randlist(size=50, start=-10, stop=7)\n",
    "complex_li_transformed = qt.qft(complex_li)\n",
    "\n",
    "q = qt.Qubit([qt.Complex(0.25, 0)] * 16)\n",
    "q_transformed = qt.qft(q)\n",
    "\n",
    "fig_size = plt.gcf()\n",
    "fig_size.set_size_inches(12, 6)\n",
    "\n",
    "plt.figure(1)\n",
    "\n",
    "# complex, transformed complex\n",
    "plt.subplot(121)\n",
    "plt.xlabel('real')\n",
    "plt.ylabel('imag')\n",
    "\n",
    "qt.Complex.plot(complex_li, label='complex number', markersize=5)\n",
    "qt.Complex.plot(complex_li_transformed, 'r^', 'transformed complex number')\n",
    "\n",
    "plt.legend(loc='upper center', fontsize='small', bbox_to_anchor=(0.5, 1.111))\n",
    "\n",
    "# qubit, transformed qubit\n",
    "plt.subplot(122)\n",
    "plt.xlabel('real')\n",
    "plt.ylabel('imag')\n",
    "\n",
    "qt.Qubit.plot(q, 'go', label='initial qubit')\n",
    "qt.Qubit.plot(q_transformed, 'r^', 'transformed qubit')\n",
    "\n",
    "plt.legend(loc='upper center', fontsize='small', bbox_to_anchor=(0.5, 1.111))\n",
    "\n",
    "plt.show()"
   ],
   "metadata": {
    "collapsed": false,
    "pycharm": {
     "name": "#%%\n"
    }
   }
  },
  {
   "cell_type": "markdown",
   "source": [
    "Kod transformacije proizvoljnih kompleksnih brojeva nije moguće uočiti nikakav obrazac - transformacija\n",
    "je takođe manje-više proizvoljna. Transformacija 4 kvantna bita u stanju superpozicije kod kojih su koeficijenti\n",
    "svi jednaki sadrži šablon - svi realni delovi (osim jednog) su postali 0, dok imaginarni variraju između\n",
    "nekog intervala."
   ],
   "metadata": {
    "collapsed": false
   }
  },
  {
   "cell_type": "markdown",
   "source": [
    "Transformisaćemo sinusoidu sa slučajnim šumom. Za generisanje šuma korišćena je funkcija *noise* koja pomera tekuću\n",
    "vrednost sinusoide najviše do zadate amplitude, sa + ili - znakom, pri čemu frekvencija šuma ne mora biti stoprocentna.\n",
    "U primeru je korišćen maksimalni pomeraj (amplituda) 1 i frekvencija distorzije signala od 100%."
   ],
   "metadata": {
    "collapsed": false
   }
  },
  {
   "cell_type": "code",
   "execution_count": null,
   "outputs": [],
   "source": [
    "fig_size = plt.gcf()\n",
    "fig_size.set_size_inches(16, 8)\n",
    "\n",
    "x = np.linspace(-np.pi, np.pi, 300)\n",
    "cpl = [qt.Complex(xi, np.sin(xi) + qt.noise()) for xi in x]\n",
    "cpl_transformed = qt.qft(cpl)\n",
    "\n",
    "plt.subplot(121)\n",
    "plt.xlabel('real')\n",
    "plt.ylabel('imag')\n",
    "\n",
    "qt.Complex.plot(cpl, color_string='blue', label='complex sin')\n",
    "qt.Complex.scatter(cpl_transformed, marker='^', c='red')\n",
    "\n",
    "plt.legend()\n",
    "plt.show()"
   ],
   "metadata": {
    "collapsed": false,
    "pycharm": {
     "name": "#%%\n"
    }
   }
  },
  {
   "cell_type": "markdown",
   "source": [
    "Radi preglednosti, prikazaćemo uveličanu sliku bez tačaka čije imaginarne jedinice prelaze 2 i -2."
   ],
   "metadata": {
    "collapsed": false
   }
  },
  {
   "cell_type": "code",
   "execution_count": null,
   "outputs": [],
   "source": [
    "fig_size = plt.gcf()\n",
    "fig_size.set_size_inches(16, 8)\n",
    "\n",
    "plt.subplot(121)\n",
    "plt.xlabel('real')\n",
    "plt.ylabel('imag')\n",
    "\n",
    "plt.xlim(-1, 1)\n",
    "plt.ylim(-1.2, 1.2)\n",
    "\n",
    "qt.Complex.plot(cpl, color_string='blue', label='complex sin')\n",
    "qt.Complex.scatter(cpl_transformed, marker='^', c='red')\n",
    "\n",
    "plt.legend()\n",
    "plt.show()"
   ],
   "metadata": {
    "collapsed": false,
    "pycharm": {
     "name": "#%%\n"
    }
   }
  },
  {
   "cell_type": "markdown",
   "source": [
    "Uveličana slika transformacije na intervalu $[-2\\pi, 2\\pi]$:"
   ],
   "metadata": {
    "collapsed": false
   }
  },
  {
   "cell_type": "code",
   "execution_count": null,
   "outputs": [],
   "source": [
    "fig_size = plt.gcf()\n",
    "fig_size.set_size_inches(16, 8)\n",
    "\n",
    "plt.subplot(121)\n",
    "plt.xlabel('real')\n",
    "plt.ylabel('imag')\n",
    "\n",
    "plt.xlim(-7, 7)\n",
    "plt.ylim(-2, 2)\n",
    "\n",
    "qt.Complex.plot(cpl, color_string='blue', label='complex sin')\n",
    "qt.Complex.scatter(cpl_transformed, s=2, c='r', marker='^')\n",
    "\n",
    "plt.legend()\n",
    "plt.show()"
   ],
   "metadata": {
    "collapsed": false,
    "pycharm": {
     "name": "#%%\n"
    }
   }
  },
  {
   "cell_type": "markdown",
   "source": [
    "Jasno je da realni delovi konvergiraju ka nuli, dok imaginarni i dalje variraju u intervalu\n",
    "$[-y_{max}, y_{max}]$, odnosno između negativne i pozitivne amplitude.\n",
    "\n",
    "Pokušaćemo sada da $''$uhvatimo$''$ obrasce transformacije nad poznatim geometrijskim oblicima - \n",
    "kvadratom, krugom i trouglom.\n",
    "\n",
    "#### Kvadrat\n",
    "\n",
    "Transformisaćemo kvadrat sa centrom u tački (0, 1) stranice 4, koji će sadržati ukupno 250 tačaka na ivicama."
   ],
   "metadata": {
    "collapsed": false
   }
  },
  {
   "cell_type": "code",
   "execution_count": null,
   "outputs": [],
   "source": [
    "fig_size = plt.gcf()\n",
    "fig_size.set_size_inches(16, 8)\n",
    "\n",
    "square = qt.Complex.create_square(center=(0.5, 1), edge=4, edge_points=250)\n",
    "square_transformed = qt.qft(square)\n",
    "\n",
    "plt.subplot(121)\n",
    "plt.xlabel('real')\n",
    "plt.ylabel('imag')\n",
    "\n",
    "qt.Complex.plot(square, label='complex square', markersize=3)\n",
    "qt.Complex.plot(square_transformed, 'r^', label='transformed complex square', markersize=3)\n",
    "\n",
    "plt.legend()\n",
    "plt.show()"
   ],
   "metadata": {
    "collapsed": false,
    "pycharm": {
     "name": "#%%\n"
    }
   }
  },
  {
   "cell_type": "markdown",
   "source": [
    "Zarad bolje preglednosti, prikazaćemo još jednom uveličan crtež:"
   ],
   "metadata": {
    "collapsed": false
   }
  },
  {
   "cell_type": "code",
   "execution_count": null,
   "outputs": [],
   "source": [
    "fig_size = plt.gcf()\n",
    "fig_size.set_size_inches(16, 8)\n",
    "\n",
    "plt.subplot(121)\n",
    "plt.xlabel('real')\n",
    "plt.ylabel('imag')\n",
    "\n",
    "plt.xlim(-4, 5)\n",
    "plt.ylim(-3.5, 5.5)\n",
    "\n",
    "qt.Complex.plot(square, label='complex square', markersize=3)\n",
    "qt.Complex.plot(square_transformed, 'r^', label='transformed complex square', markersize=2)\n",
    "\n",
    "plt.legend()\n",
    "plt.show()"
   ],
   "metadata": {
    "collapsed": false,
    "pycharm": {
     "name": "#%%\n"
    }
   }
  },
  {
   "cell_type": "markdown",
   "source": [
    "Vidimo da u blizini centra kvadrata tačke poprimaju sinusoidni oblik., odnosno da se stranice kvadrata\n",
    "na neki način $''$uvijaju$''$ u čvor.\n",
    "\n",
    "#### Popunjeni kvadrat\n",
    "\n",
    "Primenićemo sada KFT na isti kvadrat, samo sa popunom, i posmatrati rezultat transformacije.\n",
    "Kod poziva funkcije *create_filled_square* broj zadatih tačaka se odnosi na **spoljašnje**\n",
    "ivice kvadrata, dok broj i poziciju ostalih tačaka u unutrašnjosti kvadrata određuje algoritam.\n",
    "U ovom primeru uzećemo manje spoljašnjih tačaka kako ukupan broj tačaka ne bi bio preveliki i crtež\n",
    "ne bi postao potpuno nepregledan."
   ],
   "metadata": {
    "collapsed": false
   }
  },
  {
   "cell_type": "code",
   "execution_count": null,
   "outputs": [],
   "source": [
    "square_filled = qt.Complex.create_filled_square(center=(0.5, 1), edge=4, edge_points_outer=200)\n",
    "square_filled_transformed = qt.qft(square_filled)\n",
    "\n",
    "fig_size = plt.gcf()\n",
    "fig_size.set_size_inches(16, 8)\n",
    "\n",
    "plt.subplot(121)\n",
    "plt.xlabel('real')\n",
    "plt.ylabel('imag')\n",
    "\n",
    "qt.Complex.plot(square_filled, label='complex filled square', markersize=3)\n",
    "qt.Complex.plot(square_filled_transformed, 'r^', label='transformed complex filled square', markersize=2)\n",
    "\n",
    "plt.legend()\n",
    "plt.show()"
   ],
   "metadata": {
    "collapsed": false,
    "pycharm": {
     "name": "#%%\n"
    }
   }
  },
  {
   "cell_type": "markdown",
   "source": [
    "Uveličan crtež:"
   ],
   "metadata": {
    "collapsed": false
   }
  },
  {
   "cell_type": "code",
   "execution_count": null,
   "outputs": [],
   "source": [
    "fig_size = plt.gcf()\n",
    "fig_size.set_size_inches(16, 8)\n",
    "\n",
    "plt.subplot(121)\n",
    "plt.xlabel('real')\n",
    "plt.ylabel('imag')\n",
    "\n",
    "plt.xlim(-4, 5)\n",
    "plt.ylim(-3.5, 5.5)\n",
    "\n",
    "qt.Complex.plot(square_filled, label='complex square', markersize=3)\n",
    "qt.Complex.plot(square_filled_transformed, 'r^', label='transformed complex square', markersize=2)\n",
    "\n",
    "plt.legend()\n",
    "plt.show()"
   ],
   "metadata": {
    "collapsed": false,
    "pycharm": {
     "name": "#%%\n"
    }
   }
  },
  {
   "cell_type": "markdown",
   "source": [
    "#### Krug\n",
    "\n",
    "Transformacija kruga sa centrom u (0, 0) poluprečnika 2 sa brojem tačaka po kružnici 100.\n"
   ],
   "metadata": {
    "collapsed": false
   }
  },
  {
   "cell_type": "code",
   "execution_count": null,
   "outputs": [],
   "source": [
    "fig_size = plt.gcf()\n",
    "fig_size.set_size_inches(16, 8)\n",
    "\n",
    "plt.figure(1)\n",
    "\n",
    "# circle, transformed circle\n",
    "circle = qt.Complex.create_circle(radius=2, points=150)\n",
    "circle_transformed = qt.qft(circle)\n",
    "\n",
    "plt.subplot(121)\n",
    "plt.xlabel('real')\n",
    "plt.ylabel('imag')\n",
    "\n",
    "plt.xlim(-25, 25)\n",
    "plt.ylim(-25, 25)\n",
    "\n",
    "qt.Complex.plot(circle, label='complex circle', markersize=3)\n",
    "qt.Complex.plot(circle_transformed, 'r^', label='transformed circle', markersize=2)\n",
    "\n",
    "plt.legend()\n",
    "plt.show()"
   ],
   "metadata": {
    "collapsed": false,
    "pycharm": {
     "name": "#%%\n"
    }
   }
  },
  {
   "cell_type": "markdown",
   "source": [
    "Vidimo da su sve transformisane tačke konvergiraju u centar kruga - osim poslednje tačke, koja je $''$izletela$''$\n",
    "u tačku (24.85, 0)! Zbog ovog izletanja proporcije slike su narušene. Ako zanemarimo ovu tačku i uveličamo crtež,\n",
    "dobijamo:"
   ],
   "metadata": {
    "collapsed": false
   }
  },
  {
   "cell_type": "code",
   "execution_count": null,
   "outputs": [],
   "source": [
    "fig_size = plt.gcf()\n",
    "fig_size.set_size_inches(16, 8)\n",
    "\n",
    "plt.subplot(121)\n",
    "plt.xlabel('real')\n",
    "plt.ylabel('imag')\n",
    "\n",
    "plt.xlim(-2.5, 2.5)\n",
    "plt.ylim(-2.5, 2.5)\n",
    "\n",
    "qt.Complex.plot(circle, label='complex circle', markersize=3)\n",
    "qt.Complex.plot(circle_transformed, 'r^', label='transformed circle', markersize=2)\n",
    "\n",
    "plt.legend()\n",
    "plt.show()"
   ],
   "metadata": {
    "collapsed": false,
    "pycharm": {
     "name": "#%%\n"
    }
   }
  },
  {
   "cell_type": "markdown",
   "source": [
    "#### Popunjeni krug\n",
    "\n",
    "Transformisaćemo prethodni krug, samo sa popunom."
   ],
   "metadata": {
    "collapsed": false
   }
  },
  {
   "cell_type": "code",
   "execution_count": null,
   "outputs": [],
   "source": [
    "fig_size = plt.gcf()\n",
    "fig_size.set_size_inches(16, 8)\n",
    "\n",
    "plt.figure(1)\n",
    "\n",
    "# filled circle, transformed filled circle\n",
    "circle_filled = qt.Complex.create_filled_circle(radius=2, points_outer=150)\n",
    "circle_filled_transformed = qt.qft(circle_filled)\n",
    "\n",
    "plt.subplot(121)\n",
    "plt.xlabel('real')\n",
    "plt.ylabel('imag')\n",
    "\n",
    "plt.xlim(-25, 25)\n",
    "plt.ylim(-25, 25)\n",
    "\n",
    "qt.Complex.plot(circle_filled, label='complex filled circle', markersize=3)\n",
    "qt.Complex.plot(circle_filled_transformed, 'r^', label='transformed filled circle', markersize=2)\n",
    "\n",
    "plt.legend()\n",
    "plt.show()"
   ],
   "metadata": {
    "collapsed": false,
    "pycharm": {
     "name": "#%%\n"
    }
   }
  },
  {
   "cell_type": "markdown",
   "source": [
    "Ponovo, radi preglednosti, prikazaćemo uveličani crtež i utvrditi da transformisane tačke konvergiraju ka\n",
    "centru velikog kruga:"
   ],
   "metadata": {
    "collapsed": false
   }
  },
  {
   "cell_type": "code",
   "execution_count": null,
   "outputs": [],
   "source": [
    "fig_size = plt.gcf()\n",
    "fig_size.set_size_inches(16, 8)\n",
    "\n",
    "plt.figure(1)\n",
    "\n",
    "plt.subplot(121)\n",
    "plt.xlabel('real')\n",
    "plt.ylabel('imag')\n",
    "\n",
    "plt.xlim(-2.5, 2.5)\n",
    "plt.ylim(-2.5, 2.5)\n",
    "\n",
    "qt.Complex.plot(circle_filled, label='complex filled circle', markersize=3)\n",
    "qt.Complex.plot(circle_filled_transformed, 'r^', label='transformed filled circle', markersize=2)\n",
    "\n",
    "plt.legend()\n",
    "plt.show()"
   ],
   "metadata": {
    "collapsed": false,
    "pycharm": {
     "name": "#%%\n"
    }
   }
  },
  {
   "cell_type": "markdown",
   "source": [
    "#### Trougao\n",
    "\n",
    "Transformisaćemo proizvoljan nejednakostranični trougao sa temenima $A(-1.5, 0), C(3, 4), D(2, 7)$ i\n",
    "brojem tačaka po svim stranicama 220."
   ],
   "metadata": {
    "collapsed": false
   }
  },
  {
   "cell_type": "code",
   "execution_count": null,
   "outputs": [],
   "source": [
    "fig_size = plt.gcf()\n",
    "fig_size.set_size_inches(16, 8)\n",
    "\n",
    "plt.figure(1)\n",
    "\n",
    "v1 = (-1.5, 0)\n",
    "v2 = (3, 4)\n",
    "v3 = (2, 7)\n",
    "\n",
    "# triangle, transformed triangle\n",
    "triangle = qt.Complex.create_triangle(v1, v2, v3, edge_points=220)\n",
    "triangle_transformed = qt.qft(triangle)\n",
    "\n",
    "plt.subplot(121)\n",
    "plt.xlabel('real')\n",
    "plt.ylabel('imag')\n",
    "\n",
    "qt.Complex.plot(triangle, label='complex triangle', markersize=3)\n",
    "qt.Complex.plot(triangle_transformed, 'r^', label='transformed triangle', markersize=2)\n",
    "\n",
    "plt.legend()\n",
    "plt.show()"
   ],
   "metadata": {
    "collapsed": false,
    "pycharm": {
     "name": "#%%\n"
    }
   }
  },
  {
   "cell_type": "markdown",
   "source": [
    "Uveličano:"
   ],
   "metadata": {
    "collapsed": false
   }
  },
  {
   "cell_type": "code",
   "execution_count": null,
   "outputs": [],
   "source": [
    "fig_size = plt.gcf()\n",
    "fig_size.set_size_inches(16, 8)\n",
    "\n",
    "plt.figure(1)\n",
    "\n",
    "plt.subplot(121)\n",
    "plt.xlabel('real')\n",
    "plt.ylabel('imag')\n",
    "\n",
    "plt.xlim(-3, 5)\n",
    "plt.ylim(-5, 10)\n",
    "\n",
    "qt.Complex.plot(triangle, label='complex triangle', markersize=3)\n",
    "qt.Complex.plot(triangle_transformed, 'r^', label='transformed triangle', markersize=2)\n",
    "\n",
    "plt.legend()\n",
    "plt.show()"
   ],
   "metadata": {
    "collapsed": false,
    "pycharm": {
     "name": "#%%\n"
    }
   }
  },
  {
   "cell_type": "markdown",
   "source": [
    "#### Popunjeni trougao\n",
    "\n",
    "Transformisaćemo isti trougao, samo sa popunom. Zadati broj tačaka \n",
    "se odnosi na spoljašnji ivični trougao, dok broj unutrašnjih tačaka i njihove pozicije određuje algoritam."
   ],
   "metadata": {
    "collapsed": false
   }
  },
  {
   "cell_type": "code",
   "execution_count": null,
   "outputs": [],
   "source": [
    "fig_size = plt.gcf()\n",
    "fig_size.set_size_inches(16, 8)\n",
    "\n",
    "plt.figure(1)\n",
    "\n",
    "v1 = (-1.5, 0)\n",
    "v2 = (3, 4)\n",
    "v3 = (2, 7)\n",
    "\n",
    "# filled triangle, transformed filled triangle\n",
    "filled_triangle = qt.Complex.create_filled_triangle(v1, v2, v3, edge_points_outer=260)\n",
    "triangle_filled_transformed = qt.qft(filled_triangle)\n",
    "\n",
    "plt.subplot(121)\n",
    "plt.xlabel('real')\n",
    "plt.ylabel('imag')\n",
    "\n",
    "qt.Complex.plot(filled_triangle, label='complex filled triangle', markersize=3)\n",
    "qt.Complex.plot(triangle_filled_transformed, 'r^', label='transformed filled triangle', markersize=2)\n",
    "\n",
    "plt.legend()\n",
    "plt.show()"
   ],
   "metadata": {
    "collapsed": false,
    "pycharm": {
     "name": "#%%\n"
    }
   }
  },
  {
   "cell_type": "markdown",
   "source": [
    "Uveličaćemo i ovaj crtež radi preglednosti:"
   ],
   "metadata": {
    "collapsed": false
   }
  },
  {
   "cell_type": "code",
   "execution_count": null,
   "outputs": [],
   "source": [
    "fig_size = plt.gcf()\n",
    "fig_size.set_size_inches(16, 8)\n",
    "\n",
    "plt.figure(1)\n",
    "\n",
    "plt.subplot(121)\n",
    "plt.xlabel('real')\n",
    "plt.ylabel('imag')\n",
    "\n",
    "plt.xlim(-3, 5)\n",
    "plt.ylim(-5, 10)\n",
    "\n",
    "qt.Complex.plot(filled_triangle, label='complex filled triangle', markersize=3)\n",
    "qt.Complex.plot(triangle_filled_transformed, 'r^', label='transformed filled triangle', markersize=2)\n",
    "\n",
    "plt.legend()\n",
    "plt.show()"
   ],
   "metadata": {
    "collapsed": false,
    "pycharm": {
     "name": "#%%\n"
    }
   }
  },
  {
   "cell_type": "markdown",
   "source": [
    "#### Sfera\n",
    "\n",
    "Transformisaćemo 225 ravnomerno raspoređenih kjubita na Blohofoj sferi i posmatrati rezultat."
   ],
   "metadata": {
    "collapsed": false
   }
  },
  {
   "cell_type": "code",
   "execution_count": null,
   "outputs": [],
   "source": [
    "fig = plt.figure()\n",
    "fig_size = plt.gcf()\n",
    "fig_size.set_size_inches(12, 6)\n",
    "\n",
    "ax = fig.add_subplot(121, projection='3d')\n",
    "\n",
    "# qubit Bloch\n",
    "qubit_sphere = qt.QubitBloch.create_sphere(points=225)\n",
    "qt.QubitBloch.qscatter(qubit_sphere, ax, label='qubit on Bloch\\'s sphere')\n",
    "\n",
    "ax.set_zlim(-1, 1)\n",
    "ax.set_xlim(-1, 1)\n",
    "ax.set_ylim(-1, 1)\n",
    "\n",
    "ax.set_xlabel('x-axis')\n",
    "ax.set_ylabel('y-axis')\n",
    "ax.set_zlabel('z-axis')\n",
    "\n",
    "plt.legend(loc='upper right', fontsize='small')\n",
    "\n",
    "# transformed qubit Bloch\n",
    "ax_t = fig.add_subplot(122, projection='3d')\n",
    "\n",
    "qsphere_transformed = qt.qft(qubit_sphere)\n",
    "qt.QubitBloch.qscatter(qsphere_transformed, ax_t, color='r', marker='^', \\\n",
    "    label='transformed qubit on Bloch\\'s sphere')\n",
    "\n",
    "ax_t.set_zlim(-1, 1)\n",
    "ax_t.set_xlim(-1, 1)\n",
    "ax_t.set_ylim(-1, 1)\n",
    "\n",
    "ax_t.set_xlabel('x-axis')\n",
    "ax_t.set_ylabel('y-axis')\n",
    "ax_t.set_zlabel('z-axis')\n",
    "\n",
    "plt.legend(loc='upper right', fontsize='small')\n",
    "plt.show()"
   ],
   "metadata": {
    "collapsed": false,
    "pycharm": {
     "name": "#%%\n"
    }
   }
  },
  {
   "cell_type": "markdown",
   "source": [
    "Primećujemo da je sfera rotirana!\n",
    "\n",
    "#### Elipsoid\n",
    "\n",
    "S obzirom na nepostojanje kjubita na elipsoidu, ovaj primer služi samo kao uopštenje prethodnog primera - \n",
    "transformisani kjubiti su i dalje normalizovani, ali su samo **grafički** prikazani kao da pripadaju zadatom elipsoidu.\n",
    "Korišćeni su koeficijenti $a = 15, b = 7, c = 10$ i broj tačaka 576."
   ],
   "metadata": {
    "collapsed": false
   }
  },
  {
   "cell_type": "code",
   "execution_count": null,
   "outputs": [],
   "source": [
    "fig = plt.figure()\n",
    "fig_size = plt.gcf()\n",
    "fig_size.set_size_inches(12, 6)\n",
    "\n",
    "ax = fig.add_subplot(121, projection='3d')\n",
    "\n",
    "a = 15\n",
    "b = 7\n",
    "c = 10\n",
    "qubit_elipsoid = qt.QubitBloch.create_elipsoid(a=a, b=b, c=c, points=576)\n",
    "qt.QubitBloch.qscatter(qubit_elipsoid, ax, s=3, label='virtual qubit on elipsoid')\n",
    "\n",
    "ax.set_xlabel('x-axis')\n",
    "ax.set_ylabel('y-axis')\n",
    "ax.set_zlabel('z-axis')\n",
    "\n",
    "plt.legend(loc='upper right', fontsize='small')\n",
    "\n",
    "ax_t = fig.add_subplot(122, projection='3d')\n",
    "\n",
    "qelipsoid_transformed = qt.qft(qubit_elipsoid)\n",
    "qt.QubitBloch.qscatter(qelipsoid_transformed, ax_t, s=3, color='r', marker='^', \\\n",
    "                       label='transformed virtual qubit on elipsoid')\n",
    "\n",
    "ax_t.set_xlabel('x-axis')\n",
    "ax_t.set_ylabel('y-axis')\n",
    "ax_t.set_zlabel('z-axis')\n",
    "\n",
    "plt.legend(loc='upper right', fontsize='small')\n",
    "plt.show()"
   ],
   "metadata": {
    "collapsed": false,
    "pycharm": {
     "name": "#%%\n"
    }
   }
  },
  {
   "cell_type": "markdown",
   "source": [
    "#### Kocka\n",
    "\n",
    "Za primenu kvantne Furijeove transformacije na kocku, potrebna nam je jedna dosetka. Pošto je primenjujemo nad \n",
    "kompleksnim brojevima, a kompleksni brojevi se ne mogu prikazati u prostoru, naizgled deluje nemoguće da se ovo izvede.\n",
    "Međutim, moguće je primeniti transformaciju svake stranice kocke ponaosob, a zatim transformisane stranice iscrtati\n",
    "u onoj ravni u kojoj se nalaze, pri čemu će jedna osa zadate ravni biti interpretirana kao imaginarna osa. Kombinacijom\n",
    "6 transformisanih stranica kocke (6 crteža) dobićemo transformisanu virtualnu kompleksnu kocku u prostoru!\n",
    "\n",
    "Za potrebe ovog primera, korišćena je kocka sa centrom u (0, 0, 0) stranice 2 i sa\n",
    "brojem tačaka po spoljašnjim *ivicama* 200 (dakle, ovaj broj se ne odnosi za tačke koje pripadaju samim stranicama -\n",
    "njih određuje interni algoritam)."
   ],
   "metadata": {
    "collapsed": false
   }
  },
  {
   "cell_type": "code",
   "execution_count": null,
   "outputs": [],
   "source": [
    "fig = plt.figure()\n",
    "fig_size = plt.gcf()\n",
    "fig_size.set_size_inches(12, 6)\n",
    "\n",
    "ax = fig.add_subplot(121, projection='3d')\n",
    "ax.set_xlabel('x-axis')\n",
    "ax.set_ylabel('y-axis')\n",
    "ax.set_zlabel('z-axis')\n",
    "\n",
    "plt.title('Virtualna kompleksna kocka')\n",
    "colors = ['blue', 'red', 'green', 'yellow', 'cyan', 'purple']\n",
    "\n",
    "cube_data =  qt.Complex.create_cube_data(center=(0, 0, 0), edge=2, points_per_side_edge=200)\n",
    "qt.Complex.plot_cube(cube_data, ax, colors=colors)\n",
    "\n",
    "ax_t = fig.add_subplot(122, projection='3d')\n",
    "ax.set_xlabel('x-axis')\n",
    "ax.set_ylabel('y-axis')\n",
    "ax.set_zlabel('z-axis')\n",
    "\n",
    "plt.title('Transformisana virtualna kompleksna kocka')\n",
    "markers = ['^'] * 6\n",
    "alphas = [0.8] * 6\n",
    "\n",
    "transformed_cube_data = (qt.qft(cube_data[0]), ) + cube_data[1:]\n",
    "qt.Complex.plot_cube(transformed_cube_data, ax_t, colors=colors, markers=markers)\n",
    "\n",
    "plt.show()\n"
   ],
   "metadata": {
    "collapsed": false,
    "pycharm": {
     "name": "#%%\n"
    }
   }
  }
 ],
 "metadata": {
  "kernelspec": {
   "display_name": "Python 3",
   "language": "python",
   "name": "python3"
  },
  "language_info": {
   "codemirror_mode": {
    "name": "ipython",
    "version": 2
   },
   "file_extension": ".py",
   "mimetype": "text/x-python",
   "name": "python",
   "nbconvert_exporter": "python",
   "pygments_lexer": "ipython2",
   "version": "2.7.6"
  },
  "pycharm": {
   "stem_cell": {
    "cell_type": "raw",
    "source": [],
    "metadata": {
     "collapsed": false
    }
   }
  }
 },
 "nbformat": 4,
 "nbformat_minor": 0
}